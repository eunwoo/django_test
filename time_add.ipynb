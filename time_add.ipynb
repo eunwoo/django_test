{
 "cells": [
  {
   "cell_type": "code",
   "execution_count": 1,
   "metadata": {},
   "outputs": [
    {
     "name": "stdout",
     "output_type": "stream",
     "text": [
      "Current timestamp:  2022-04-11 09:56:25.980688\n",
      "Future Time (2 minutes from now ):  2022-04-11 09:58:25.980688\n"
     ]
    }
   ],
   "source": [
    "from datetime import timedelta, datetime\n",
    "\n",
    "current_time = datetime.now()\n",
    "print('Current timestamp: ', current_time)\n",
    "n = 2\n",
    "# Add 2 minutes to datetime object containing current time\n",
    "future_time = current_time + timedelta(minutes=n)\n",
    "\n",
    "print('Future Time (2 minutes from now ): ', future_time)"
   ]
  },
  {
   "cell_type": "code",
   "execution_count": 3,
   "metadata": {},
   "outputs": [
    {
     "data": {
      "text/plain": [
       "True"
      ]
     },
     "execution_count": 3,
     "metadata": {},
     "output_type": "execute_result"
    }
   ],
   "source": [
    "current_time < future_time"
   ]
  }
 ],
 "metadata": {
  "interpreter": {
   "hash": "11fa39a439e495f238b2630b3998f6a8cac6b3c3860f68b4b5532142674f4f61"
  },
  "kernelspec": {
   "display_name": "Python 3.8.8 ('base')",
   "language": "python",
   "name": "python3"
  },
  "language_info": {
   "codemirror_mode": {
    "name": "ipython",
    "version": 3
   },
   "file_extension": ".py",
   "mimetype": "text/x-python",
   "name": "python",
   "nbconvert_exporter": "python",
   "pygments_lexer": "ipython3",
   "version": "3.8.8"
  },
  "orig_nbformat": 4
 },
 "nbformat": 4,
 "nbformat_minor": 2
}
